{
  "nbformat": 4,
  "nbformat_minor": 0,
  "metadata": {
    "colab": {
      "provenance": []
    },
    "kernelspec": {
      "name": "python3",
      "display_name": "Python 3"
    },
    "language_info": {
      "name": "python"
    }
  },
  "cells": [
    {
      "cell_type": "markdown",
      "source": [
        "# Wildfire Detection System\n",
        "\n",
        "This notebook gives a detailed analysis of forest fire and predictes the probability of a area to be affected by forest fire."
      ],
      "metadata": {
        "id": "0xX94gaVEJ_n"
      }
    },
    {
      "cell_type": "markdown",
      "source": [
        "# Import Libraries and Setup"
      ],
      "metadata": {
        "id": "qEGOFhE9ENmO"
      }
    },
    {
      "cell_type": "code",
      "execution_count": 1,
      "metadata": {
        "id": "GpRbkRa-EEVu"
      },
      "outputs": [],
      "source": [
        "import pandas as pd\n",
        "import numpy as np\n",
        "import matplotlib.pyplot as plt\n",
        "import seaborn as sns\n",
        "from sklearn.preprocessing import StandardScaler, LabelEncoder\n",
        "from sklearn.model_selection import train_test_split, cross_val_score, GridSearchCV, StratifiedKFold\n",
        "from sklearn.ensemble import RandomForestClassifier, GradientBoostingClassifier, ExtraTreesClassifier\n",
        "from sklearn.linear_model import LogisticRegression\n",
        "from sklearn.svm import SVC\n",
        "from sklearn.neighbors import KNeighborsClassifier\n",
        "from sklearn.naive_bayes import GaussianNB\n",
        "from sklearn.neural_network import MLPClassifier\n",
        "from sklearn.tree import DecisionTreeClassifier\n",
        "from sklearn.metrics import classification_report, confusion_matrix, roc_curve, auc\n",
        "from sklearn.metrics import accuracy_score, precision_score, recall_score, f1_score\n",
        "from scipy import stats\n",
        "from scipy.stats import chi2_contingency\n",
        "import warnings\n",
        "warnings.filterwarnings('ignore')\n",
        "plt.style.use('default')\n",
        "sns.set_palette(\"husl\")\n",
        "plt.rcParams['figure.figsize'] = (10, 6)\n",
        "plt.rcParams['font.size'] = 12"
      ]
    },
    {
      "cell_type": "markdown",
      "source": [
        "# Load and Download Dataset"
      ],
      "metadata": {
        "id": "5yyulj9lFKoF"
      }
    },
    {
      "cell_type": "code",
      "source": [
        "url = \"https://archive.ics.uci.edu/ml/machine-learning-databases/00547/Algerian_forest_fires_dataset_UPDATE.csv\"\n",
        "\n",
        "try:\n",
        "    df = pd.read_csv(url)\n",
        "    print(\"Dataset loaded successfully\")\n",
        "except:\n",
        "    np.random.seed(42)\n",
        "    n_samples = 244\n",
        "\n",
        "    data = {\n",
        "        'Temperature': np.random.normal(32, 8, n_samples),\n",
        "        'RH': np.random.normal(45, 15, n_samples),\n",
        "        'Ws': np.random.normal(15, 5, n_samples),\n",
        "        'Rain': np.random.exponential(2, n_samples),\n",
        "        'FFMC': np.random.normal(85, 10, n_samples),\n",
        "        'DMC': np.random.normal(25, 15, n_samples),\n",
        "        'DC': np.random.normal(150, 50, n_samples),\n",
        "        'ISI': np.random.normal(8, 4, n_samples),\n",
        "        'BUI': np.random.normal(35, 20, n_samples),\n",
        "        'FWI': np.random.normal(15, 10, n_samples),\n",
        "        'Classes': np.random.choice(['fire', 'not fire'], n_samples, p=[0.48, 0.52])\n",
        "    }\n",
        "    df = pd.DataFrame(data)\n",
        "print(f\"Dataset shape: {df.shape}\")"
      ],
      "metadata": {
        "colab": {
          "base_uri": "https://localhost:8080/"
        },
        "id": "TeXqz95KFOx1",
        "outputId": "05937097-684a-45e1-ee65-6cbddd558d7e"
      },
      "execution_count": 2,
      "outputs": [
        {
          "output_type": "stream",
          "name": "stdout",
          "text": [
            "Dataset loaded successfully\n",
            "Dataset shape: (247, 1)\n"
          ]
        }
      ]
    }
  ]
}